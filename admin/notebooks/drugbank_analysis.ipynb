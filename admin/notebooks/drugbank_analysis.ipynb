{
 "cells": [
  {
   "attachments": {},
   "cell_type": "markdown",
   "metadata": {},
   "source": [
    "## Imports"
   ]
  },
  {
   "cell_type": "code",
   "execution_count": 1,
   "metadata": {},
   "outputs": [],
   "source": [
    "import pandas as pd\n",
    "import matplotlib.pyplot as plt\n",
    "from itertools import chain\n",
    "from rdkit import Chem\n",
    "from rdkit.Chem import Descriptors\n",
    "\n",
    "from rdkit import DataStructs\n",
    "from rdkit.Chem.Fingerprints import FingerprintMols\n",
    "from rdkit import Chem\n",
    "from rdkit.Chem import AllChem\n",
    "from rdkit import DataStructs\n",
    "import numpy as np"
   ]
  },
  {
   "cell_type": "markdown",
   "metadata": {},
   "source": [
    "## Code"
   ]
  },
  {
   "cell_type": "code",
   "execution_count": 2,
   "metadata": {},
   "outputs": [],
   "source": [
    "def create_pychart(data, labels, name): \n",
    "    colors = ['#b7ded2', '#f6a6b2', '#f7c297', '#90d2d8']\n",
    "     # Creating plot\n",
    "    fig = plt.figure()\n",
    "    plt.pie(data, labels=labels, colors=colors, autopct='%1.1f%%', textprops={'fontsize': 14})\n",
    "\n",
    "    plt.savefig(f\"../../admin/plots/{name}.png\")\n",
    "\n",
    "def create_pychart_hist(dist, n_bins, name): \n",
    "    fig = plt.figure(tight_layout=True)\n",
    "\n",
    "    plt.hist(dist, bins=n_bins, color='#90d2d8')\n",
    "\n",
    "    plt.savefig(f\"../../admin/plots/{name}.png\")\n",
    "\n",
    "def create_pychart_double_hist(dist1, label1, dist2, label2, n_bins, name): \n",
    "    fig, axs = plt.subplots(1, 2, sharey=True, tight_layout=True)\n",
    "\n",
    "    axs[0].hist(dist1, bins=n_bins, color='#90d2d8', label=label1)\n",
    "    axs[1].hist(dist2, bins=n_bins, color='#90d2d8', label=label2)\n",
    "\n",
    "    plt.savefig(f\"../../admin/plots/{name}.png\")\n"
   ]
  },
  {
   "cell_type": "code",
   "execution_count": 3,
   "metadata": {},
   "outputs": [],
   "source": [
    "\n",
    "def get_dataset(data_set): \n",
    "    return pd.read_csv(f'../../src/dataset/processed_data/{data_set}.csv')    \n",
    "\n",
    "\n",
    "# Compares datasets for duplicate data points\n",
    "def get_duplicates_from_datasets(dataset_first, dataset_second):\n",
    "    equal_count = 0\n",
    "    for i, row_db in dataset_first.iterrows():\n",
    "        parent = row_db['parent_smiles']\n",
    "        child = row_db['metabolite_smiles']\n",
    "\n",
    "        duplicated = dataset_second[(dataset_second[\"parent_smiles\"] == parent) & (dataset_second[\"metabolite_smiles\"] == child)]\n",
    "\n",
    "        if not duplicated.empty: \n",
    "            equal_count += 1 \n",
    "            \n",
    "    return equal_count\n",
    "\n",
    "def data_source_analysis(dataset_first, dataset_first_name, dataset_second, dataset_second_name): \n",
    "    dataset_first = dataset_first[['parent_smiles', 'metabolite_smiles']]\n",
    "    dataset_second = dataset_second[['parent_smiles', 'metabolite_smiles']]\n",
    "    duplicate_count = get_duplicates_from_datasets(dataset_first, dataset_second)\n",
    "    print(duplicate_count)\n",
    "\n",
    "    first_dataset_length = len(dataset_first) - duplicate_count\n",
    "    second_dataset_length = len(dataset_second) - duplicate_count\n",
    "\n",
    "    labels = [dataset_first_name, dataset_second_name]\n",
    "    data = [first_dataset_length, second_dataset_length]\n",
    "    \n",
    "    if duplicate_count > 0: \n",
    "        print(f\"Duplicates {duplicate_count}\")\n",
    "        data.append(duplicate_count)\n",
    "        labels.append(f\"{dataset_first_name} and {dataset_second_name}\")\n",
    "    \n",
    "    create_pychart(data, labels, \"data_sources\")\n",
    "\n",
    "def divide_enzymes_into_families(enzymes, limit): \n",
    "    families_3 = [\"CYP\", \"NAT\", \"UGT\", \"GST\", \"UDP\"] # could be made dynamic!\n",
    "    all_families = families_3 + [\"Others\", \"SULT\", \"EC\", \"S-COMT\"] \n",
    "    family_count = dict.fromkeys(all_families, 0)\n",
    "\n",
    "    for enzyme in enzymes: \n",
    "        start = enzyme[:3]\n",
    "        if enzyme == \"\": \n",
    "            pass\n",
    "        elif start in families_3: \n",
    "            family_count[start] += 1\n",
    "        elif enzyme.startswith(\"EC\"):  \n",
    "            family_count[\"EC\"] += 1\n",
    "        elif enzyme.startswith(\"S-COMT\"):  \n",
    "            family_count[\"S-COMT\"] += 1\n",
    "        elif enzyme.startswith(\"SULT\"):  \n",
    "            family_count[\"SULT\"] += 1\n",
    "        else: \n",
    "            print(enzyme)\n",
    "            family_count[\"Others\"] += 1  \n",
    "\n",
    "    result = {\"Others\": family_count[\"Others\"]}\n",
    "    for (name, count) in family_count.items(): \n",
    "        if count > limit and name != \"Others\": \n",
    "            result.update({name: count})\n",
    "        else: \n",
    "            result.update({\"Others\": (result[\"Others\"] + count)})\n",
    "\n",
    "    return result\n",
    "\n",
    "\n",
    "def enzyme_analysis(dataset, name): \n",
    "    enzymes = dataset.dropna(axis=0)[\"enzymes\"]\n",
    "\n",
    "    # create list of lists \n",
    "    enzymes = [list(map(lambda x: x.strip(),  row.split(\";\"))) for row in enzymes]\n",
    "    all_enzymes = list(chain(*enzymes))\n",
    "    family_count = divide_enzymes_into_families(all_enzymes, limit=20)\n",
    "    labels = family_count.keys()\n",
    "    data = family_count.values()\n",
    "    \n",
    "    create_pychart(data, labels, \"enzymes_\" + name)\n",
    "\n",
    "def molecular_weight_analysis(dataset, name): \n",
    "    mol_weights = []\n",
    "\n",
    "    parents = dataset[\"parent_smiles\"]\n",
    "    metabolites = dataset[\"metabolite_smiles\"]\n",
    "    for parent, metabolite in zip(parents, metabolites): \n",
    "        parent_mol_weight = Descriptors.ExactMolWt(Chem.MolFromSmiles(parent))\n",
    "        metabolite_mol_weight = Descriptors.ExactMolWt(Chem.MolFromSmiles(metabolite))\n",
    "        diff_mol_weight = abs(parent_mol_weight - metabolite_mol_weight)\n",
    "\n",
    "        mol_weights.append([metabolite_mol_weight, diff_mol_weight])\n",
    "    metab_weights, diff_weights = list(zip(*mol_weights))\n",
    "    \n",
    "    unique_parents = get_unique_parent_dataset(dataset)[\"parent_smiles\"]\n",
    "    parent_weights = [Descriptors.ExactMolWt(Chem.MolFromSmiles(parent)) for parent in unique_parents]\n",
    "   \n",
    "    create_pychart_double_hist(parent_weights, \"Parents\", metab_weights, \"Metabolites\", 30, \"molecular_weights\")\n",
    "    create_pychart_hist(diff_weights, 16, \"molecular_weights_diff\")\n",
    "    \n",
    "def get_nr_unique_parent_dataset(data): \n",
    "    unique_parent_dataset = get_unique_parent_dataset(data)\n",
    "    return len(unique_parent_dataset)\n",
    "\n",
    "def get_unique_parent_dataset(data): \n",
    "    unique_parent_dataset = []\n",
    "    \n",
    "    for parent in data[\"parent_smiles\"].unique(): \n",
    "        children = data.loc[data['parent_smiles'] == parent][\"metabolite_smiles\"]\n",
    "        unique_parent_dataset.append((parent, list(children)[0]))\n",
    "\n",
    "    unique_parent_df = pd.DataFrame(unique_parent_dataset)\n",
    "    unique_parent_df.columns = [\"parent_smiles\", \"metabolite_smiles\"]\n",
    "    return unique_parent_df\n",
    "\n",
    "def curate_enzymes_drugbank(dataset):     \n",
    "    enzymes = dataset[\"enzymes\"]\n",
    "    all_families = [\"CYP\", \"NAT\", \"UGT\", \"GST\", \"UDP\", \"SULT\", \"EC\", \"S-COMT\", \"Others\"] # could be made dynamic!\n",
    "\n",
    "    return enzymes\n",
    "\n"
   ]
  },
  {
   "cell_type": "code",
   "execution_count": 4,
   "metadata": {},
   "outputs": [],
   "source": [
    "def get_drugbank_unique_enzymes(dataset):\n",
    "    enzymes = dataset.dropna(axis=0)[\"enzymes\"].str.encode('latin1').str.decode('utf-8')\n",
    "\n",
    "    # create list of lists \n",
    "    enzymes = [list(map(lambda x: x.strip(),  row.split(\",\"))) for row in enzymes]\n",
    "    all_enzymes = list(chain(*enzymes))\n",
    "    unique_enzymes = set(all_enzymes)\n",
    "    print(len(unique_enzymes))\n",
    "    cyp_enzymes = [enzyme for enzyme in unique_enzymes if \"Cyt\" in enzyme]\n",
    "    other_enzymes = [enzyme for enzyme in unique_enzymes if \"Cyt\" not in enzyme]\n",
    "    print(len(other_enzymes))\n",
    "   \n",
    "    \n",
    "    return other_enzymes\n",
    "def get_metxbio_unique_enzymes(dataset):\n",
    "    enzymes = dataset.dropna(axis=0)[\"enzymes\"]\n",
    "\n",
    "    # create list of lists \n",
    "    enzymes = [list(map(lambda x: x.strip(),  row.split(\";\"))) for row in enzymes]\n",
    "    all_enzymes = list(chain(*enzymes))\n",
    "    unique_enzymes = set(all_enzymes)\n",
    "    print(len(unique_enzymes))\n",
    "    cyp_enzymes = [enzyme for enzyme in unique_enzymes if \"CYP\" in enzyme]\n",
    "    other_enzymes = [enzyme for enzyme in unique_enzymes if \"CYP\" not in enzyme]\n",
    "    return other_enzymes\n",
    "    \n",
    "\n",
    "def list_to_text_file(list, file_path):\n",
    "    with open(file_path, \"w\") as file:\n",
    "        # Iterate over the list of strings\n",
    "        for string in list:\n",
    "            # Write each string to the file\n",
    "            file.write(string + \"\\n\")\n",
    "\n",
    "def finger_print_similarity(dataset):\n",
    "    parent_smiles = dataset['parent_smiles'].tolist()\n",
    "    metabolite_smiles = dataset['metabolite_smiles'].tolist()\n",
    "\n",
    "    parent_mol = [Chem.MolFromSmiles(x) for x in parent_smiles]\n",
    "    metabolite_mol = [Chem.MolFromSmiles(x) for x in metabolite_smiles]\n",
    "\n",
    "    #parent_fps = [Chem.RDKFingerprint(x) for x in parent_mol]\n",
    "    #metabolite_fps = [Chem.RDKFingerprint(x) for x in metabolite_mol]\n",
    "\n",
    "    parent_fps = [AllChem.GetMorganFingerprintAsBitVect(x, radius=2, nBits=1024) for x in parent_mol]\n",
    "    metabolite_fps = [AllChem.GetMorganFingerprintAsBitVect(x, radius=2, nBits=1024) for x in metabolite_mol]\n",
    "\n",
    "    \n",
    "    fingerprint_similarities = []\n",
    "    for i in range(len(parent_smiles)):\n",
    "        \n",
    "        s = DataStructs.TanimotoSimilarity(parent_fps[i],metabolite_fps[i]) \n",
    "        fingerprint_similarities.append(s)\n",
    "\n",
    "    return fingerprint_similarities    "
   ]
  },
  {
   "cell_type": "code",
   "execution_count": 5,
   "metadata": {},
   "outputs": [],
   "source": [
    "def filter_drugbank_enzymes(drugbank_enzymes):\n",
    "    metxbio_enzymes = [\n",
    "        'NAT1',\n",
    "        'UGT1A7',\n",
    "        'GST',\n",
    "        'UGT1A3',\n",
    "        'UDP-glucuronosyltransferase 1-9',\n",
    "        'GLYAT (EC 2.3.1.13)',\n",
    "        'SULT1A1',\n",
    "        'EC 1.7.1.6',\n",
    "        'Unspecified gut bacterial enzyme',\n",
    "        'EC 3.2.1.X',\n",
    "        'EC 3.2.1.40',\n",
    "        'UGT1A6',\n",
    "        'UGT',\n",
    "        'Unspecified bacterial isoflavone reductase',\n",
    "        'Unspecified bacterial dehydroxylase',\n",
    "        'GSTA1',\n",
    "        'UGT1A4)',\n",
    "        'UGT2B7',\n",
    "        '(major, Râ‰ˆS))',\n",
    "        'UGT1A1',\n",
    "        'UGT1A4',\n",
    "        'UGT1A9',\n",
    "        'UGT1A8',\n",
    "        'S-COMT',\n",
    "        'UGT2B15',\n",
    "        'UGT2B17',\n",
    "        'NAT',\n",
    "        'SULT1A2',\n",
    "        'NAT2',\n",
    "        'UGT2B10',\n",
    "        'UGT1A10',\n",
    "        'SULT'\n",
    "        ]\n",
    "    for met_enzyme in metxbio_enzymes:\n",
    "        drugbank_enzymes = [enzyme for enzyme in drugbank_enzymes if met_enzyme not in enzyme]\n",
    "    return drugbank_enzymes\n",
    "    "
   ]
  },
  {
   "cell_type": "code",
   "execution_count": 8,
   "metadata": {},
   "outputs": [],
   "source": [
    "drugbank = get_dataset(\"drugbank_smiles\")\n",
    "#drugbank_duplicates = get_dataset(\"drugbank_smiles_duplicates_saved\")\n",
    "metxbiodb = get_dataset(\"metxbiodb_smiles\")\n",
    "combined = get_dataset(\"metabolic_data\")"
   ]
  },
  {
   "cell_type": "code",
   "execution_count": null,
   "metadata": {},
   "outputs": [
    {
     "name": "stdout",
     "output_type": "stream",
     "text": [
      "145\n",
      "124\n",
      "101\n"
     ]
    }
   ],
   "source": [
    "\n",
    "unique_drugbank_enzymes = get_drugbank_unique_enzymes(drugbank)\n",
    "list_to_text_file(unique_drugbank_enzymes,\"unique_enzymes_drugbank.txt\")\n",
    "\n",
    "unique_metxbio_enzymes = get_metxbio_unique_enzymes(metxbiodb)\n",
    "list_to_text_file(unique_metxbio_enzymes,\"unique_enzymes_metxbio.txt\")"
   ]
  },
  {
   "cell_type": "code",
   "execution_count": null,
   "metadata": {},
   "outputs": [
    {
     "name": "stdout",
     "output_type": "stream",
     "text": [
      "['Carbonyl reductase [NADPH] 1', 'Carbonyl reductase [NADPH] 3', \"Inosine-5'-monophosphate dehydrogenase 1\", 'UDP-glucuronosyltransferase 1-7', 'Elongation of very long chain fatty acids protein 4', 'Aromatic-L-amino-acid decarboxylase', 'Dipeptidase 1', 'NADPH azoreductase', 'Dimethylaniline monooxygenase [N-oxide-forming] 3', 'Uridine phosphorylase 1', 'Myeloperoxidase', 'Fatty acid desaturase 2', 'Nucleoside diphosphokinase', 'Thyroxine 5-deiodinase', 'Cholinesterase', 'Liver esterases', 'Lysosomal protective protein', \"5'-cyclic phosphodiesterase\", 'UDP-glucuronosyltransferase 1-3', 'Alcohol dehydrogenase 1B', 'Alcohol dehydrogenase [NADP(+)]', 'Adenylate kinase 4', 'Liver carboxylesterase 1', 'Sulfotransferase', 'Glutathione S-transferase Mu 1', 'Epoxide hydrolase 1', 'Dihydrofolate reductase', 'NAD(P)H dehydrogenase [quinone] 1', 'UDP-glucuronosyltransferase 2B7', 'Aldo-keto reductase family 1 member C1', 'Vitamin D 25-hydroxylase', 'Pentaerythritol tetranitrate reductase', 'NADPH--cytochrome P450 reductase', 'UMP-CMP kinase', 'Cocaine esterase', 'Arylamine N-acetyltransferase 2', 'Aldehyde oxidase', 'Corticosteroid 11-beta-dehydrogenase isozyme 2', 'Nitric oxide synthase', 'Catechol O-methyltransferase', 'brain', 'dimeric NADP-preferring', 'Arylamine N-acetyltransferase 1', '25-hydroxyvitamin D-1 alpha hydroxylase', 'UDP-glucuronosyltransferase 2B17', 'Estrogen sulfotransferase', 'Carboxylic ester hydrolase', 'UDP-glucuronosyltransferase 1-8', 'endothelial', 'Aldo-keto reductase family 1 member C2', 'Deoxycytidylate deaminase', 'Ectonucleotide pyrophosphatase/phosphodiesterase family member 1', 'Methionine synthase', 'Diamine acetyltransferase 1', 'UbiA prenyltransferase domain-containing protein 1', 'Adenosine kinase', 'Serum albumin', 'Thymidine kinase 2', 'Betaine--homocysteine S-methyltransferase 1', 'Purine nucleoside phosphorylase', 'NADH dehydrogenase [ubiquinone] iron-sulfur protein 3', 'Aminoacylase-1', 'Carboxylesterase', 'UDP-galactose 4-epimerase', 'Thiopurine S-methyltransferase', \"5'-cyclic phosphodiesterase 7B\", 'Sulfotransferase 1A3/1A4', 'Adenylate kinase 2', 'Nucleoside diphosphate kinase A', 'Glutathione S-transferase P', 'UDP-glucuronosyltransferase 1-1', 'Adenylate kinase isoenzyme 1', 'Glutathione S-transferase theta-1', 'Aldo-keto reductase family 1 member C3', 'Phospholipase D1', 'UDP-glucuronosyltransferase 2B4', 'GMP synthase [glutamine-hydrolyzing]', '3 beta-hydroxysteroid dehydrogenase/Delta 5-->4-isomerase type 1', 'Hypoxanthine-guanine phosphoribosyltransferase', 'Aldo-keto reductase family 1 member C4', 'UDP-glucuronosyltransferase 2B10', \"Inosine-5'-monophosphate dehydrogenase 2\", 'inducible', 'UDP-glucuronosyltransferase 2B15', 'Corticosteroid 11-beta-dehydrogenase isozyme 1', 'Glutathione S-transferase A1', 'Adenosine deaminase', 'Guanine deaminase', 'Sulfotransferase 1A1', 'Nucleoside diphosphate kinase B', 'UDP-glucuronosyltransferase 1-10', 'Dopamine beta-hydroxylase', 'NADH dehydrogenase [ubiquinone] iron-sulfur protein 2', 'membrane associated', 'Xanthine dehydrogenase/oxidase', 'Prostaglandin G/H synthase 1', 'Histidine triad nucleotide-binding protein 1', 'Prostaglandin G/H synthase 2', 'Alcohol dehydrogenase 1A', 'Intestinal-type alkaline phosphatase', 'Elongation of very long chain fatty acids protein 5', \"cGMP-specific 3'\", 'Beta-glucosidase', 'Creatine Kinases', 'Phospholipase A2', 'Aldehyde dehydrogenase', 'Valacyclovir hydrolase', 'Aminopeptidase N', 'Bile salt sulfotransferase', 'NADH dehydrogenase [ubiquinone] iron-sulfur protein 7', 'Thymidine phosphorylase', 'Deoxycytidine kinase', 'Retinal dehydrogenase 1', 'UDP-glucuronosyltransferase 1-6', 'UDP-glucuronosyltransferase 1-4', 'Uridine phosphorylase 2', '3-oxo-5-alpha-steroid 4-dehydrogenase 2', 'Dimethylaniline monooxygenase [N-oxide-forming] 1', \"cAMP-specific 3'\", 'mitochondrial', 'Glutathione S-transferase A2', 'Monoamine oxidase']\n",
      "122\n"
     ]
    }
   ],
   "source": [
    "filtered_drugbank_enzymes = filter_drugbank_enzymes(unique_drugbank_enzymes)\n",
    "print(filtered_drugbank_enzymes)\n",
    "print(len(filtered_drugbank_enzymes))\n",
    "list_to_text_file(unique_drugbank_enzymes,\"filtered_enzymes_drugbank.txt\")\n"
   ]
  },
  {
   "cell_type": "code",
   "execution_count": 9,
   "metadata": {},
   "outputs": [],
   "source": [
    "drugbank_similarities = finger_print_similarity(drugbank)\n",
    "metxbiodb_similarities = finger_print_similarity(metxbiodb)\n",
    "drugbank_similarities_rounded = [round(float(x),2) for x in drugbank_similarities]\n",
    "metxbiodb_similarities_rounded = [round(float(x),2) for x in metxbiodb_similarities]"
   ]
  },
  {
   "cell_type": "code",
   "execution_count": 10,
   "metadata": {},
   "outputs": [
    {
     "data": {
      "image/png": "[encoded data removed]",
      "text/plain": [
       "<Figure size 640x480 with 1 Axes>"
      ]
     },
     "metadata": {},
     "output_type": "display_data"
    }
   ],
   "source": [
    "plt.hist(drugbank_similarities, bins=100)\n",
    "plt.xlabel('Value')\n",
    "plt.ylabel('Count')\n",
    "plt.show()"
   ]
  },
  {
   "cell_type": "code",
   "execution_count": null,
   "metadata": {},
   "outputs": [
    {
     "data": {
      "image/png": "[encoded data removed]",
      "text/plain": [
       "<Figure size 640x480 with 1 Axes>"
      ]
     },
     "metadata": {},
     "output_type": "display_data"
    }
   ],
   "source": [
    "plt.hist(metxbiodb_similarities, bins=100)\n",
    "plt.xlabel('Value')\n",
    "plt.ylabel('Count')\n",
    "plt.show()"
   ]
  },
  {
   "cell_type": "code",
   "execution_count": 18,
   "metadata": {},
   "outputs": [
    {
     "name": "stdout",
     "output_type": "stream",
     "text": [
      "parent_name                             (R)-halothane\n",
      "parent_smiles                         FC(F)(F)C(Cl)Br\n",
      "metabolite_name                  trifluoroacetic acid\n",
      "metabolite_smiles                      O=C(O)C(F)(F)F\n",
      "enzymes                                        CYP2E1\n",
      "reaction_type        Oxidation of halotrifluoroethane\n",
      "Name: 7, dtype: object\n",
      "parent_name           5-Methoxy-N,N-diisopropyltryptamine\n",
      "parent_smiles        COC1=CC=C2NC=C(CCN(C(C)C)C(C)C)C2=C1\n",
      "metabolite_name                                 5-OH-DIPT\n",
      "metabolite_smiles     CC(C)N(CCC1=CNC2=CC=C(O)C=C12)C(C)C\n",
      "enzymes                                            CYP2D6\n",
      "reaction_type                             O-Demethylation\n",
      "Name: 5, dtype: object\n"
     ]
    }
   ],
   "source": [
    "metx_argmin = np.argmax(metxbiodb_similarities)\n",
    "np_metxbiodb_similarities = np.array(metxbiodb_similarities)\n",
    "indices_less_than_03 = np.where(np_metxbiodb_similarities < 0.35)[0]\n",
    "indices_greater_than_6 = np.where(np_metxbiodb_similarities > 0.65)[0]\n",
    "#print(indices_less_than_03)\n",
    "#print(indices_greater_than_6)\n",
    "print(metxbiodb.iloc[7])\n",
    "print(metxbiodb.iloc[5])"
   ]
  },
  {
   "cell_type": "code",
   "execution_count": null,
   "metadata": {},
   "outputs": [],
   "source": [
    "def filter_out_data(drugbank_df, invalid_fingerprint_ids, invalid_enzyme_ids):\n",
    "    orig_count = len(drugbank_df)\n",
    "    drugbank_df = drugbank_df.drop(invalid_fingerprint_ids, inplace=True, errors='ignore')\n",
    "    drugbank_df = drugbank_df.drop(invalid_enzyme_ids, inplace=True, errors='ignore')\n",
    "    dropped_count = orig_count - len(drugbank_df)\n",
    "    print(\"dropped: \",  dropped_count)\n",
    "    return drugbank_df"
   ]
  },
  {
   "cell_type": "code",
   "execution_count": 159,
   "metadata": {},
   "outputs": [
    {
     "name": "stdout",
     "output_type": "stream",
     "text": [
      "dropped:  120\n"
     ]
    }
   ],
   "source": [
    "enzymes = drugbank.dropna()\n",
    "orig_count = len(enzymes)\n",
    "\n",
    "# Go over the endogenous enzymes and drop those that match\n",
    "for endogenous_enzyme in filtered_drugbank_enzymes:\n",
    "    enzymes = enzymes[(enzymes['enzymes'] == '') | (enzymes['enzymes'] != endogenous_enzyme)]\n",
    "        \n",
    "print(\"dropped: \", orig_count -len(enzymes))\n",
    "\n",
    "#drugbank_df = filter_out_data(drugbank,[],[])"
   ]
  }
 ],
 "metadata": {
  "kernelspec": {
   "display_name": "Python 3",
   "language": "python",
   "name": "python3"
  },
  "language_info": {
   "codemirror_mode": {
    "name": "ipython",
    "version": 3
   },
   "file_extension": ".py",
   "mimetype": "text/x-python",
   "name": "python",
   "nbconvert_exporter": "python",
   "pygments_lexer": "ipython3",
   "version": "3.9.7"
  },
  "orig_nbformat": 4
 },
 "nbformat": 4,
 "nbformat_minor": 2
}
